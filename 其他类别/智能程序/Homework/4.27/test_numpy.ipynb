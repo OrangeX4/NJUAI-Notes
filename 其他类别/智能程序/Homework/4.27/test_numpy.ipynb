{
 "cells": [
  {
   "cell_type": "code",
   "execution_count": 55,
   "metadata": {},
   "outputs": [],
   "source": [
    "import numpy as np"
   ]
  },
  {
   "cell_type": "markdown",
   "metadata": {},
   "source": [
    "## ndarray的存储ndarrays.strides"
   ]
  },
  {
   "cell_type": "code",
   "execution_count": 19,
   "metadata": {},
   "outputs": [
    {
     "name": "stdout",
     "output_type": "stream",
     "text": [
      "<class 'numpy.int32'>\n",
      "[[1 2 3]\n",
      " [4 5 6]]\n",
      "(12, 4)\n"
     ]
    }
   ],
   "source": [
    "def print_array(arr):\n",
    "    print(\"Element Type: \",arr.dtype)\n",
    "    print(\"Shape:   \",arr.shape)\n",
    "    print(\"Strides: \",arr.strides)\n",
    "    print(arr)\n",
    "    print()\n",
    "\n",
    "\n",
    "myarray = np.array([[1,2,3],[4,5,6]], dtype = \"int32\")\n",
    "print(type(myarray[0][0]))\n",
    "print(myarray)\n",
    "print(myarray.strides)"
   ]
  },
  {
   "cell_type": "code",
   "execution_count": 20,
   "metadata": {},
   "outputs": [
    {
     "name": "stdout",
     "output_type": "stream",
     "text": [
      "Element Type:  int32\n",
      "Shape:    (3, 2)\n",
      "Strides:  (4, 12)\n",
      "[[1 4]\n",
      " [2 5]\n",
      " [3 6]]\n",
      "\n",
      "Element Type:  int32\n",
      "Shape:    (2, 3)\n",
      "Strides:  (12, 4)\n",
      "[[1 2 3]\n",
      " [4 5 6]]\n",
      "\n"
     ]
    }
   ],
   "source": [
    "myT = myarray.T\n",
    "print_array(myT)\n",
    "print_array(myarray)"
   ]
  },
  {
   "cell_type": "code",
   "execution_count": 21,
   "metadata": {},
   "outputs": [
    {
     "name": "stdout",
     "output_type": "stream",
     "text": [
      "Element Type:  int32\n",
      "Shape:    (3, 2)\n",
      "Strides:  (8, 4)\n",
      "[[1 4]\n",
      " [2 5]\n",
      " [3 6]]\n",
      "\n"
     ]
    }
   ],
   "source": [
    "myarray2 = np.array([[1,4],[2,5],[3,6]], dtype = \"int32\")\n",
    "print_array(myarray2)"
   ]
  },
  {
   "cell_type": "code",
   "execution_count": 22,
   "metadata": {},
   "outputs": [
    {
     "name": "stdout",
     "output_type": "stream",
     "text": [
      "Element Type:  int64\n",
      "Shape:    (6,)\n",
      "Strides:  (8,)\n",
      "[1 2 3 4 5 6]\n",
      "\n",
      "Element Type:  int64\n",
      "Shape:    (2, 3)\n",
      "Strides:  (24, 8)\n",
      "[[1 2 3]\n",
      " [4 5 6]]\n",
      "\n",
      "Element Type:  int64\n",
      "Shape:    (3, 2)\n",
      "Strides:  (16, 8)\n",
      "[[1 2]\n",
      " [3 4]\n",
      " [5 6]]\n",
      "\n"
     ]
    }
   ],
   "source": [
    "data = np.arange(1, 7)\n",
    "print_array(data)\n",
    "\n",
    "data1 = np.arange(1, 7).reshape((2,3))\n",
    "print_array(data1)\n",
    "\n",
    "data2 = np.arange(1, 7).reshape((3,2))\n",
    "print_array(data2)"
   ]
  },
  {
   "cell_type": "markdown",
   "metadata": {},
   "source": [
    "### high dimensional arrays"
   ]
  },
  {
   "cell_type": "code",
   "execution_count": 23,
   "metadata": {},
   "outputs": [
    {
     "name": "stdout",
     "output_type": "stream",
     "text": [
      "Element Type:  int64\n",
      "Shape:    (18,)\n",
      "Strides:  (8,)\n",
      "[ 1  2  3  4  5  6  7  8  9 10 11 12 13 14 15 16 17 18]\n",
      "\n",
      "Element Type:  int64\n",
      "Shape:    (3, 2, 3)\n",
      "Strides:  (48, 24, 8)\n",
      "[[[ 1  2  3]\n",
      "  [ 4  5  6]]\n",
      "\n",
      " [[ 7  8  9]\n",
      "  [10 11 12]]\n",
      "\n",
      " [[13 14 15]\n",
      "  [16 17 18]]]\n",
      "\n",
      "Element Type:  int64\n",
      "Shape:    (3, 3, 2)\n",
      "Strides:  (48, 16, 8)\n",
      "[[[ 1  2]\n",
      "  [ 3  4]\n",
      "  [ 5  6]]\n",
      "\n",
      " [[ 7  8]\n",
      "  [ 9 10]\n",
      "  [11 12]]\n",
      "\n",
      " [[13 14]\n",
      "  [15 16]\n",
      "  [17 18]]]\n",
      "\n"
     ]
    }
   ],
   "source": [
    "data = np.arange(1, 19)\n",
    "print_array(data)\n",
    "\n",
    "data1 = np.arange(1, 19).reshape((3,2,3))\n",
    "print_array(data1)\n",
    "\n",
    "data2 = np.arange(1, 19).reshape((3,3,2))\n",
    "print_array(data2)"
   ]
  },
  {
   "cell_type": "code",
   "execution_count": 24,
   "metadata": {},
   "outputs": [
    {
     "name": "stdout",
     "output_type": "stream",
     "text": [
      "Element Type:  int64\n",
      "Shape:    (2, 3, 2, 3)\n",
      "Strides:  (144, 48, 24, 8)\n",
      "[[[[ 1  2  3]\n",
      "   [ 4  5  6]]\n",
      "\n",
      "  [[ 7  8  9]\n",
      "   [10 11 12]]\n",
      "\n",
      "  [[13 14 15]\n",
      "   [16 17 18]]]\n",
      "\n",
      "\n",
      " [[[19 20 21]\n",
      "   [22 23 24]]\n",
      "\n",
      "  [[25 26 27]\n",
      "   [28 29 30]]\n",
      "\n",
      "  [[31 32 33]\n",
      "   [34 35 36]]]]\n",
      "\n"
     ]
    }
   ],
   "source": [
    "data = np.arange(1,37).reshape(2,3,2,3)\n",
    "print_array(data)"
   ]
  },
  {
   "cell_type": "markdown",
   "metadata": {},
   "source": [
    "## create ndarrays\n",
    "### from existing arrays"
   ]
  },
  {
   "cell_type": "code",
   "execution_count": 25,
   "metadata": {},
   "outputs": [
    {
     "data": {
      "text/plain": [
       "array([1, 2, 3, 4])"
      ]
     },
     "execution_count": 25,
     "metadata": {},
     "output_type": "execute_result"
    }
   ],
   "source": [
    "np.array([1, 2, 3, 4])"
   ]
  },
  {
   "cell_type": "code",
   "execution_count": 26,
   "metadata": {},
   "outputs": [
    {
     "name": "stdout",
     "output_type": "stream",
     "text": [
      "Element Type:  int64\n",
      "Shape:    (1, 4)\n",
      "Strides:  (8, 8)\n",
      "[[1 2 3 4]]\n",
      "\n"
     ]
    }
   ],
   "source": [
    "a1 = np.array([1, 2, 3, 4])\n",
    "a2 = np.array(a1, order = 'F', ndmin = 2)\n",
    "print_array(a2)"
   ]
  },
  {
   "cell_type": "markdown",
   "metadata": {},
   "source": [
    "### fill with elements"
   ]
  },
  {
   "cell_type": "code",
   "execution_count": 27,
   "metadata": {},
   "outputs": [
    {
     "data": {
      "text/plain": [
       "array([0., 0.])"
      ]
     },
     "execution_count": 27,
     "metadata": {},
     "output_type": "execute_result"
    }
   ],
   "source": [
    "np.zeros(2)"
   ]
  },
  {
   "cell_type": "code",
   "execution_count": 28,
   "metadata": {},
   "outputs": [
    {
     "data": {
      "text/plain": [
       "array([1., 1., 1.])"
      ]
     },
     "execution_count": 28,
     "metadata": {},
     "output_type": "execute_result"
    }
   ],
   "source": [
    "np.ones(3)"
   ]
  },
  {
   "cell_type": "code",
   "execution_count": 29,
   "metadata": {},
   "outputs": [
    {
     "data": {
      "text/plain": [
       "array([ 13.575     , 185.82247934,  26.325     , 195.82247934])"
      ]
     },
     "execution_count": 29,
     "metadata": {},
     "output_type": "execute_result"
    }
   ],
   "source": [
    "np.empty(4)"
   ]
  },
  {
   "cell_type": "code",
   "execution_count": 30,
   "metadata": {},
   "outputs": [
    {
     "data": {
      "text/plain": [
       "array([[1., 0., 0., 0., 0.],\n",
       "       [0., 1., 0., 0., 0.],\n",
       "       [0., 0., 1., 0., 0.],\n",
       "       [0., 0., 0., 1., 0.],\n",
       "       [0., 0., 0., 0., 1.]])"
      ]
     },
     "execution_count": 30,
     "metadata": {},
     "output_type": "execute_result"
    }
   ],
   "source": [
    "np.eye(5) #np.identity(5)"
   ]
  },
  {
   "cell_type": "code",
   "execution_count": 31,
   "metadata": {},
   "outputs": [
    {
     "data": {
      "text/plain": [
       "array([[1, 0, 0, 0],\n",
       "       [0, 2, 0, 0],\n",
       "       [0, 0, 3, 0],\n",
       "       [0, 0, 0, 4]])"
      ]
     },
     "execution_count": 31,
     "metadata": {},
     "output_type": "execute_result"
    }
   ],
   "source": [
    "np.diag(range(1,5))"
   ]
  },
  {
   "cell_type": "code",
   "execution_count": 32,
   "metadata": {},
   "outputs": [
    {
     "data": {
      "text/plain": [
       "array([1, 3, 5])"
      ]
     },
     "execution_count": 32,
     "metadata": {},
     "output_type": "execute_result"
    }
   ],
   "source": [
    "np.arange(1,6,2)"
   ]
  },
  {
   "cell_type": "code",
   "execution_count": 33,
   "metadata": {},
   "outputs": [
    {
     "data": {
      "text/plain": [
       "array([ 0. ,  2.5,  5. ,  7.5, 10. ])"
      ]
     },
     "execution_count": 33,
     "metadata": {},
     "output_type": "execute_result"
    }
   ],
   "source": [
    "np.linspace(0, 10, num=5)"
   ]
  },
  {
   "cell_type": "code",
   "execution_count": 34,
   "metadata": {},
   "outputs": [
    {
     "data": {
      "text/plain": [
       "array([  1.        ,   3.16227766,  10.        ,  31.6227766 ,\n",
       "       100.        ])"
      ]
     },
     "execution_count": 34,
     "metadata": {},
     "output_type": "execute_result"
    }
   ],
   "source": [
    "np.logspace(0, 2, 5)"
   ]
  },
  {
   "cell_type": "code",
   "execution_count": 54,
   "metadata": {},
   "outputs": [
    {
     "data": {
      "text/plain": [
       "[<matplotlib.lines.Line2D at 0x7ff7284c89d0>]"
      ]
     },
     "execution_count": 54,
     "metadata": {},
     "output_type": "execute_result"
    },
    {
     "data": {
      "image/png": "[encoded data removed]",
      "text/plain": [
       "<Figure size 432x288 with 1 Axes>"
      ]
     },
     "metadata": {
      "needs_background": "light"
     },
     "output_type": "display_data"
    }
   ],
   "source": [
    "import matplotlib.pyplot as plt\n",
    "\n",
    "x = range(0,100)\n",
    "#y = np.linspace(0, 10, num=5)\n",
    "y = np.logspace(0, 2, 100)\n",
    "plt.plot(x, y) # or simply plt.plot(y)"
   ]
  },
  {
   "cell_type": "code",
   "execution_count": 57,
   "metadata": {},
   "outputs": [
    {
     "data": {
      "text/plain": [
       "<matplotlib.collections.PathCollection at 0x7ff728780ad0>"
      ]
     },
     "execution_count": 57,
     "metadata": {},
     "output_type": "execute_result"
    },
    {
     "data": {
      "image/png": "[encoded data removed]",
      "text/plain": [
       "<Figure size 432x288 with 1 Axes>"
      ]
     },
     "metadata": {
      "needs_background": "light"
     },
     "output_type": "display_data"
    }
   ],
   "source": [
    "plt.scatter(x, y)"
   ]
  },
  {
   "cell_type": "code",
   "execution_count": 55,
   "metadata": {},
   "outputs": [
    {
     "data": {
      "text/plain": [
       "[<matplotlib.lines.Line2D at 0x7ff72873f5d0>]"
      ]
     },
     "execution_count": 55,
     "metadata": {},
     "output_type": "execute_result"
    },
    {
     "data": {
      "image/png": "[encoded data removed]",
      "text/plain": [
       "<Figure size 432x288 with 1 Axes>"
      ]
     },
     "metadata": {
      "needs_background": "light"
     },
     "output_type": "display_data"
    }
   ],
   "source": [
    "plt.plot(y)"
   ]
  },
  {
   "cell_type": "code",
   "execution_count": 37,
   "metadata": {},
   "outputs": [
    {
     "data": {
      "text/plain": [
       "array([[0.23789008, 0.62646628],\n",
       "       [0.11527895, 0.9245045 ],\n",
       "       [0.98298091, 0.03250991]])"
      ]
     },
     "execution_count": 37,
     "metadata": {},
     "output_type": "execute_result"
    }
   ],
   "source": [
    "np.random.rand(3,2)"
   ]
  },
  {
   "cell_type": "code",
   "execution_count": 38,
   "metadata": {},
   "outputs": [
    {
     "data": {
      "text/plain": [
       "[<matplotlib.lines.Line2D at 0x15429e130>]"
      ]
     },
     "execution_count": 38,
     "metadata": {},
     "output_type": "execute_result"
    },
    {
     "data": {
      "image/png": "[encoded data removed]",
      "text/plain": [
       "<Figure size 432x288 with 1 Axes>"
      ]
     },
     "metadata": {
      "needs_background": "light"
     },
     "output_type": "display_data"
    }
   ],
   "source": [
    "x = range(0, 100)\n",
    "y = np.random.rand(100)\n",
    "plt.plot(x, y)"
   ]
  },
  {
   "cell_type": "code",
   "execution_count": 39,
   "metadata": {
    "scrolled": true
   },
   "outputs": [
    {
     "data": {
      "text/plain": [
       "<matplotlib.collections.PathCollection at 0x1542b10a0>"
      ]
     },
     "execution_count": 39,
     "metadata": {},
     "output_type": "execute_result"
    },
    {
     "data": {
      "image/png": "[encoded data removed]",
      "text/plain": [
       "<Figure size 432x288 with 1 Axes>"
      ]
     },
     "metadata": {
      "needs_background": "light"
     },
     "output_type": "display_data"
    }
   ],
   "source": [
    "plt.scatter(x, y)"
   ]
  },
  {
   "cell_type": "code",
   "execution_count": 40,
   "metadata": {},
   "outputs": [
    {
     "data": {
      "text/plain": [
       "array([[ 1.,  2.,  3.,  4.,  5.,  6.,  7.,  8.,  9.],\n",
       "       [ 2.,  4.,  6.,  8., 10., 12., 14., 16., 18.],\n",
       "       [ 3.,  6.,  9., 12., 15., 18., 21., 24., 27.],\n",
       "       [ 4.,  8., 12., 16., 20., 24., 28., 32., 36.],\n",
       "       [ 5., 10., 15., 20., 25., 30., 35., 40., 45.],\n",
       "       [ 6., 12., 18., 24., 30., 36., 42., 48., 54.],\n",
       "       [ 7., 14., 21., 28., 35., 42., 49., 56., 63.],\n",
       "       [ 8., 16., 24., 32., 40., 48., 56., 64., 72.],\n",
       "       [ 9., 18., 27., 36., 45., 54., 63., 72., 81.]])"
      ]
     },
     "execution_count": 40,
     "metadata": {},
     "output_type": "execute_result"
    }
   ],
   "source": [
    "np.fromfunction(lambda i,j:(i+1)*(j+1), (9,9))"
   ]
  },
  {
   "cell_type": "markdown",
   "metadata": {},
   "source": [
    "## Indexing and Slicing"
   ]
  },
  {
   "cell_type": "code",
   "execution_count": 41,
   "metadata": {},
   "outputs": [
    {
     "name": "stdout",
     "output_type": "stream",
     "text": [
      "[[ 1  2  3  4  5  6  7  8  9]\n",
      " [ 2  4  6  8 10 12 14 16 18]\n",
      " [ 3  6  9 12 15 18 21 24 27]\n",
      " [ 4  8 12 16 20 24 28 32 36]\n",
      " [ 5 10 15 20 25 30 35 40 45]\n",
      " [ 6 12 18 24 30 36 42 48 54]\n",
      " [ 7 14 21 28 35 42 49 56 63]\n",
      " [ 8 16 24 32 40 48 56 64 72]\n",
      " [ 9 18 27 36 45 54 63 72 81]]\n"
     ]
    },
    {
     "data": {
      "text/plain": [
       "array([ 2,  4,  6,  8, 10, 12, 14, 16, 18], dtype=int32)"
      ]
     },
     "execution_count": 41,
     "metadata": {},
     "output_type": "execute_result"
    }
   ],
   "source": [
    "myarray = np.fromfunction(lambda i,j:(i+1)*(j+1), (9,9), dtype = 'int32')\n",
    "\n",
    "print(myarray)\n",
    "\n",
    "myarray[: ,1]"
   ]
  },
  {
   "cell_type": "code",
   "execution_count": 42,
   "metadata": {},
   "outputs": [
    {
     "data": {
      "text/plain": [
       "array([[49, 56, 63],\n",
       "       [56, 64, 72],\n",
       "       [63, 72, 81]], dtype=int32)"
      ]
     },
     "execution_count": 42,
     "metadata": {},
     "output_type": "execute_result"
    }
   ],
   "source": [
    "myarray[-3:,-3:]"
   ]
  },
  {
   "cell_type": "code",
   "execution_count": 43,
   "metadata": {},
   "outputs": [
    {
     "data": {
      "text/plain": [
       "array([[ 7, 14, 21, 28, 35, 42, 49, 56, 63],\n",
       "       [ 8, 16, 24, 32, 40, 48, 56, 64, 72],\n",
       "       [ 9, 18, 27, 36, 45, 54, 63, 72, 81]], dtype=int32)"
      ]
     },
     "execution_count": 43,
     "metadata": {},
     "output_type": "execute_result"
    }
   ],
   "source": [
    "myarray[-3:]"
   ]
  },
  {
   "cell_type": "code",
   "execution_count": 44,
   "metadata": {},
   "outputs": [
    {
     "data": {
      "text/plain": [
       "array([[ 7,  8,  9],\n",
       "       [14, 16, 18],\n",
       "       [21, 24, 27],\n",
       "       [28, 32, 36],\n",
       "       [35, 40, 45],\n",
       "       [42, 48, 54],\n",
       "       [49, 56, 63],\n",
       "       [56, 64, 72],\n",
       "       [63, 72, 81]], dtype=int32)"
      ]
     },
     "execution_count": 44,
     "metadata": {},
     "output_type": "execute_result"
    }
   ],
   "source": [
    "myarray[:,-3:]"
   ]
  },
  {
   "cell_type": "markdown",
   "metadata": {},
   "source": [
    "### Slice and View"
   ]
  },
  {
   "cell_type": "code",
   "execution_count": 45,
   "metadata": {},
   "outputs": [
    {
     "name": "stdout",
     "output_type": "stream",
     "text": [
      "Element Type:  int32\n",
      "Shape:    (2, 3)\n",
      "Strides:  (180, 4)\n",
      "[[ 7  8  9]\n",
      " [42 48 54]]\n",
      "\n"
     ]
    }
   ],
   "source": [
    "newarray = myarray[::5,-3:]\n",
    "print_array(newarray)"
   ]
  },
  {
   "cell_type": "code",
   "execution_count": 46,
   "metadata": {},
   "outputs": [
    {
     "name": "stdout",
     "output_type": "stream",
     "text": [
      "Element Type:  int32\n",
      "Shape:    (2, 3)\n",
      "Strides:  (12, 4)\n",
      "[[ 7  8  9]\n",
      " [42 48 54]]\n",
      "\n"
     ]
    }
   ],
   "source": [
    "newarray2 = np.array([[ 7, 8, 9], [42, 48, 54]], dtype=\"int32\")\n",
    "print_array(newarray2)"
   ]
  },
  {
   "cell_type": "code",
   "execution_count": 47,
   "metadata": {},
   "outputs": [
    {
     "name": "stdout",
     "output_type": "stream",
     "text": [
      "143 ns ± 0.674 ns per loop (mean ± std. dev. of 7 runs, 10000000 loops each)\n",
      "320 ns ± 1.79 ns per loop (mean ± std. dev. of 7 runs, 1000000 loops each)\n"
     ]
    }
   ],
   "source": [
    "%timeit newarray = myarray[::5,-3:]\n",
    "%timeit newarray2 = myarray[::5,-3:].copy()"
   ]
  },
  {
   "cell_type": "markdown",
   "metadata": {},
   "source": [
    "#### slicing a sliced view"
   ]
  },
  {
   "cell_type": "code",
   "execution_count": 48,
   "metadata": {},
   "outputs": [
    {
     "name": "stdout",
     "output_type": "stream",
     "text": [
      "Element Type:  int32\n",
      "Shape:    (2, 3)\n",
      "Strides:  (180, 4)\n",
      "[[ 7  8  9]\n",
      " [42 48 54]]\n",
      "\n",
      "Element Type:  int32\n",
      "Shape:    (2, 2)\n",
      "Strides:  (180, 4)\n",
      "[[ 8  9]\n",
      " [48 54]]\n",
      "\n"
     ]
    }
   ],
   "source": [
    "print_array(newarray)\n",
    "newarray3 = newarray[:,-2:] \n",
    "print_array(newarray3)"
   ]
  },
  {
   "cell_type": "code",
   "execution_count": 49,
   "metadata": {},
   "outputs": [],
   "source": [
    "newarray3 = newarray[:,-2:].copy()\n",
    "\n",
    "newarray3.fill(0)"
   ]
  },
  {
   "cell_type": "code",
   "execution_count": 50,
   "metadata": {},
   "outputs": [
    {
     "name": "stdout",
     "output_type": "stream",
     "text": [
      "[[0 0]\n",
      " [0 0]]\n",
      "[[ 7  8  9]\n",
      " [42 48 54]]\n",
      "[[ 1  2  3  4  5  6  7  8  9]\n",
      " [ 2  4  6  8 10 12 14 16 18]\n",
      " [ 3  6  9 12 15 18 21 24 27]\n",
      " [ 4  8 12 16 20 24 28 32 36]\n",
      " [ 5 10 15 20 25 30 35 40 45]\n",
      " [ 6 12 18 24 30 36 42 48 54]\n",
      " [ 7 14 21 28 35 42 49 56 63]\n",
      " [ 8 16 24 32 40 48 56 64 72]\n",
      " [ 9 18 27 36 45 54 63 72 81]]\n"
     ]
    }
   ],
   "source": [
    "print(newarray3)\n",
    "print(newarray)\n",
    "print(myarray)"
   ]
  },
  {
   "cell_type": "markdown",
   "metadata": {},
   "source": [
    "### fancy indexing"
   ]
  },
  {
   "cell_type": "code",
   "execution_count": 35,
   "metadata": {},
   "outputs": [
    {
     "name": "stdout",
     "output_type": "stream",
     "text": [
      "[ 0 10 20 30 40 50 60 70 80 90]\n",
      "[10 50 90 10 10]\n"
     ]
    }
   ],
   "source": [
    "myarray = np.arange(0, 100, 10)\n",
    "indices = [1, 5, -1, 1, 1]\n",
    "newarray = myarray[indices]\n",
    "print(myarray)\n",
    "print(newarray)"
   ]
  },
  {
   "cell_type": "markdown",
   "metadata": {},
   "source": [
    "### boolean indexing"
   ]
  },
  {
   "cell_type": "code",
   "execution_count": 36,
   "metadata": {},
   "outputs": [
    {
     "data": {
      "text/plain": [
       "array([1, 6, 8, 9])"
      ]
     },
     "execution_count": 36,
     "metadata": {},
     "output_type": "execute_result"
    }
   ],
   "source": [
    "myarray = np.arange(10)\n",
    "b = [False,  True,  False, False, False, False,  True, False, True,  True]\n",
    "\n",
    "myarray[b]"
   ]
  },
  {
   "cell_type": "code",
   "execution_count": 37,
   "metadata": {},
   "outputs": [
    {
     "data": {
      "text/plain": [
       "array([1, 4, 7])"
      ]
     },
     "execution_count": 37,
     "metadata": {},
     "output_type": "execute_result"
    }
   ],
   "source": [
    "myarray[myarray%3==1]"
   ]
  },
  {
   "cell_type": "markdown",
   "metadata": {},
   "source": [
    "## Operations\n",
    "### Reshaping and resizing"
   ]
  },
  {
   "cell_type": "code",
   "execution_count": 52,
   "metadata": {},
   "outputs": [
    {
     "name": "stdout",
     "output_type": "stream",
     "text": [
      "[[1 2 3 4]]\n",
      "[1 2 3 4]\n"
     ]
    },
    {
     "data": {
      "text/plain": [
       "array([[1, 2],\n",
       "       [3, 4]])"
      ]
     },
     "execution_count": 52,
     "metadata": {},
     "output_type": "execute_result"
    }
   ],
   "source": [
    "data = np.array([[1, 2], [3, 4]])\n",
    "print(np.reshape(data, (1, 4)))\n",
    "print(data.reshape(4))\n",
    "data"
   ]
  },
  {
   "cell_type": "code",
   "execution_count": 53,
   "metadata": {},
   "outputs": [
    {
     "name": "stdout",
     "output_type": "stream",
     "text": [
      "[1 2 3 4]\n"
     ]
    },
    {
     "data": {
      "text/plain": [
       "(4,)"
      ]
     },
     "execution_count": 53,
     "metadata": {},
     "output_type": "execute_result"
    }
   ],
   "source": [
    "print(data.flatten())\n",
    "data.flatten().shape"
   ]
  },
  {
   "cell_type": "code",
   "execution_count": 54,
   "metadata": {},
   "outputs": [
    {
     "name": "stdout",
     "output_type": "stream",
     "text": [
      "[[[1]\n",
      "  [2]]\n",
      "\n",
      " [[3]\n",
      "  [4]]]\n",
      "(2, 2, 1)\n",
      "[[100   2]\n",
      " [  3   4]]\n",
      "[[[100]\n",
      "  [  2]]\n",
      "\n",
      " [[  3]\n",
      "  [  4]]]\n"
     ]
    }
   ],
   "source": [
    "expendeddata = data[:,:, np.newaxis]\n",
    "print(expendeddata)\n",
    "print(expendeddata.shape)\n",
    "expendeddata[0][0] = 100\n",
    "print(data)\n",
    "print(expendeddata)"
   ]
  },
  {
   "cell_type": "code",
   "execution_count": 41,
   "metadata": {},
   "outputs": [
    {
     "data": {
      "text/plain": [
       "array([[100,   2],\n",
       "       [  3,   4],\n",
       "       [100,   2],\n",
       "       [  3,   4],\n",
       "       [100,   2],\n",
       "       [  3,   4]])"
      ]
     },
     "execution_count": 41,
     "metadata": {},
     "output_type": "execute_result"
    }
   ],
   "source": [
    "np.vstack((data, data, data))"
   ]
  },
  {
   "cell_type": "code",
   "execution_count": 42,
   "metadata": {},
   "outputs": [
    {
     "data": {
      "text/plain": [
       "array([[100,   2, 100,   2, 100,   2],\n",
       "       [  3,   4,   3,   4,   3,   4]])"
      ]
     },
     "execution_count": 42,
     "metadata": {},
     "output_type": "execute_result"
    }
   ],
   "source": [
    "np.hstack((data, data, data))"
   ]
  },
  {
   "cell_type": "markdown",
   "metadata": {},
   "source": [
    "### Arithmetic operations"
   ]
  },
  {
   "cell_type": "code",
   "execution_count": 61,
   "metadata": {},
   "outputs": [
    {
     "name": "stdout",
     "output_type": "stream",
     "text": [
      "[[ 6  8]\n",
      " [10 12]]\n",
      "[[-4 -4]\n",
      " [-4 -4]]\n",
      "[[ 5 12]\n",
      " [21 32]]\n",
      "[[0.2        0.33333333]\n",
      " [0.42857143 0.5       ]]\n",
      "[[2 4]\n",
      " [6 8]]\n",
      "[[ 1  4]\n",
      " [ 9 16]]\n",
      "[[ 2  4]\n",
      " [ 8 16]]\n",
      "[[0.5 1. ]\n",
      " [1.5 2. ]]\n"
     ]
    }
   ],
   "source": [
    "x = np.array([[1, 2], [3, 4]])\n",
    "y = np.array([[5, 6], [7, 8]])\n",
    "print(x + y)\n",
    "print(x - y)\n",
    "print(x * y)\n",
    "print(x / y)"
   ]
  },
  {
   "cell_type": "markdown",
   "metadata": {},
   "source": [
    "### vectorization"
   ]
  },
  {
   "cell_type": "code",
   "execution_count": 81,
   "metadata": {},
   "outputs": [
    {
     "name": "stdout",
     "output_type": "stream",
     "text": [
      "2.39 µs ± 296 ns per loop (mean ± std. dev. of 7 runs, 100000 loops each)\n",
      "3.89 ms ± 42.6 µs per loop (mean ± std. dev. of 7 runs, 100 loops each)\n"
     ]
    }
   ],
   "source": [
    "size = 10000\n",
    "a = np.random.rand(size)\n",
    "b = np.random.rand(size)\n",
    "\n",
    "%timeit c = np.dot(a, b)\n",
    "\n",
    "def mydot(a , b):\n",
    "    c = 0\n",
    "    for i in range(a.size):\n",
    "        c += a[i] * b[i]\n",
    "    return c\n",
    "\n",
    "%timeit mydot(a, b)\n"
   ]
  },
  {
   "cell_type": "code",
   "execution_count": 82,
   "metadata": {},
   "outputs": [
    {
     "name": "stdout",
     "output_type": "stream",
     "text": [
      "5.33 µs ± 51.8 ns per loop (mean ± std. dev. of 7 runs, 100000 loops each)\n",
      "5.47 ms ± 35.3 µs per loop (mean ± std. dev. of 7 runs, 100 loops each)\n"
     ]
    }
   ],
   "source": [
    "size = 10000\n",
    "a = np.random.rand(size)\n",
    "b = np.random.rand(size)\n",
    "\n",
    "%timeit c = np.add(a, b)\n",
    "\n",
    "def myadd(a , b):\n",
    "    c = np.empty(a.size)\n",
    "    for i in range(a.size):\n",
    "        c[i] += a[i] + b[i]\n",
    "    return c\n",
    "\n",
    "%timeit myadd(a, b)"
   ]
  },
  {
   "cell_type": "code",
   "execution_count": 58,
   "metadata": {},
   "outputs": [
    {
     "name": "stdout",
     "output_type": "stream",
     "text": [
      "[[ 3 -1  4  0  2]\n",
      " [-2  4  0  0  3]\n",
      " [-5  2 -4  0  0]\n",
      " [ 0  0 -5  2  0]\n",
      " [-2  4  0 -1  0]]\n"
     ]
    }
   ],
   "source": [
    "np.random.seed(1001)\n",
    "a = np.random.randint(low=-10, high=10, size=[5, 5])\n",
    "index = (a < -5) | (a > 5)\n",
    "a[index] = 0\n",
    "print(a)"
   ]
  },
  {
   "cell_type": "code",
   "execution_count": 59,
   "metadata": {},
   "outputs": [
    {
     "name": "stdout",
     "output_type": "stream",
     "text": [
      "[9 3 8 3 5 8 4 5 7 6]\n",
      "[False  True False False  True False False  True]\n",
      "[8 8 7]\n",
      "[ True False  True False False  True False False]\n",
      "[3 3 4]\n"
     ]
    }
   ],
   "source": []
  },
  {
   "cell_type": "markdown",
   "metadata": {},
   "source": [
    "#### universal functions"
   ]
  },
  {
   "cell_type": "markdown",
   "metadata": {},
   "source": [
    "#### Broadcasting"
   ]
  },
  {
   "cell_type": "code",
   "execution_count": 63,
   "metadata": {},
   "outputs": [
    {
     "name": "stdout",
     "output_type": "stream",
     "text": [
      "(4, 1) (5,)\n",
      "[[0]\n",
      " [1]\n",
      " [2]\n",
      " [3]] [1. 1. 1. 1. 1.]\n"
     ]
    },
    {
     "data": {
      "text/plain": [
       "array([[1., 1., 1., 1., 1.],\n",
       "       [2., 2., 2., 2., 2.],\n",
       "       [3., 3., 3., 3., 3.],\n",
       "       [4., 4., 4., 4., 4.]])"
      ]
     },
     "execution_count": 63,
     "metadata": {},
     "output_type": "execute_result"
    }
   ],
   "source": [
    "x = np.arange(4).reshape(4,1)\n",
    "\n",
    "y = np.ones(5)\n",
    "print(x.shape, y.shape)\n",
    "print(x,y)\n",
    "x + y"
   ]
  },
  {
   "cell_type": "code",
   "execution_count": 128,
   "metadata": {},
   "outputs": [
    {
     "name": "stdout",
     "output_type": "stream",
     "text": [
      "[[ 0  2  4  6  8]\n",
      " [10 12 14 16 18]\n",
      " [20 22 24 26 28]\n",
      " [30 32 34 36 38]\n",
      " [40 42 44 46 48]]\n",
      "[[  0   1   4   9  16]\n",
      " [ 25  36  49  64  81]\n",
      " [100 121 144 169 196]\n",
      " [225 256 289 324 361]\n",
      " [400 441 484 529 576]]\n",
      "[[       1        2        4        8       16]\n",
      " [      32       64      128      256      512]\n",
      " [    1024     2048     4096     8192    16384]\n",
      " [   32768    65536   131072   262144   524288]\n",
      " [ 1048576  2097152  4194304  8388608 16777216]]\n",
      "[[ 0.   0.5  1.   1.5  2. ]\n",
      " [ 2.5  3.   3.5  4.   4.5]\n",
      " [ 5.   5.5  6.   6.5  7. ]\n",
      " [ 7.5  8.   8.5  9.   9.5]\n",
      " [10.  10.5 11.  11.5 12. ]]\n"
     ]
    }
   ],
   "source": [
    "x = np.arange(25).reshape(5,5)\n",
    "print(x * 2)\n",
    "print(x ** 2)\n",
    "print(2 ** x)\n",
    "print(x / 2)"
   ]
  },
  {
   "cell_type": "code",
   "execution_count": 126,
   "metadata": {},
   "outputs": [
    {
     "name": "stdout",
     "output_type": "stream",
     "text": [
      "[0.00000e+00 1.60000e+00 3.20000e+00 ... 1.59952e+04 1.59968e+04\n",
      " 1.59984e+04]\n",
      "[0.00000e+00 1.60000e+00 3.20000e+00 ... 1.59952e+04 1.59968e+04\n",
      " 1.59984e+04]\n",
      "9.56 µs ± 84.2 ns per loop (mean ± std. dev. of 7 runs, 100000 loops each)\n",
      "19.7 ms ± 113 µs per loop (mean ± std. dev. of 7 runs, 100 loops each)\n"
     ]
    }
   ],
   "source": [
    "x = np.arange(10000)\n",
    "print(x * 1.6)\n",
    "print(np.array([i * 1.6 for i in x]))\n",
    "\n",
    "%timeit x * 1.6\n",
    "%timeit [i * 1.6 for i in x]"
   ]
  },
  {
   "cell_type": "code",
   "execution_count": 72,
   "metadata": {},
   "outputs": [
    {
     "name": "stdout",
     "output_type": "stream",
     "text": [
      "Element Type:  int64\n",
      "Shape:    (4,)\n",
      "Strides:  (8,)\n",
      "[0 1 2 3]\n",
      "\n",
      "Element Type:  int64\n",
      "Shape:    (4, 1)\n",
      "Strides:  (8, 8)\n",
      "[[0]\n",
      " [1]\n",
      " [2]\n",
      " [3]]\n",
      "\n",
      "Element Type:  float64\n",
      "Shape:    (5,)\n",
      "Strides:  (8,)\n",
      "[1. 1. 1. 1. 1.]\n",
      "\n",
      "Element Type:  float64\n",
      "Shape:    (3, 4)\n",
      "Strides:  (32, 8)\n",
      "[[1. 1. 1. 1.]\n",
      " [1. 1. 1. 1.]\n",
      " [1. 1. 1. 1.]]\n",
      "\n"
     ]
    }
   ],
   "source": [
    "x = np.arange(4)\n",
    "xx = x.reshape(4,1)\n",
    "y = np.ones(5)\n",
    "z = np.ones((3,4))\n",
    "\n",
    "print_array(x)\n",
    "print_array(xx)\n",
    "print_array(y)\n",
    "print_array(z)"
   ]
  },
  {
   "cell_type": "code",
   "execution_count": 73,
   "metadata": {},
   "outputs": [
    {
     "ename": "ValueError",
     "evalue": "operands could not be broadcast together with shapes (4,) (5,) ",
     "output_type": "error",
     "traceback": [
      "\u001b[0;31m---------------------------------------------------------------------------\u001b[0m",
      "\u001b[0;31mValueError\u001b[0m                                Traceback (most recent call last)",
      "\u001b[0;32m<ipython-input-73-cd60f97aa77f>\u001b[0m in \u001b[0;36m<module>\u001b[0;34m\u001b[0m\n\u001b[0;32m----> 1\u001b[0;31m \u001b[0mx\u001b[0m \u001b[0;34m+\u001b[0m \u001b[0my\u001b[0m\u001b[0;34m\u001b[0m\u001b[0;34m\u001b[0m\u001b[0m\n\u001b[0m",
      "\u001b[0;31mValueError\u001b[0m: operands could not be broadcast together with shapes (4,) (5,) "
     ]
    }
   ],
   "source": [
    "x + y"
   ]
  },
  {
   "cell_type": "code",
   "execution_count": 50,
   "metadata": {},
   "outputs": [
    {
     "data": {
      "text/plain": [
       "array([[1., 1., 1., 1., 1.],\n",
       "       [2., 2., 2., 2., 2.],\n",
       "       [3., 3., 3., 3., 3.],\n",
       "       [4., 4., 4., 4., 4.]])"
      ]
     },
     "execution_count": 50,
     "metadata": {},
     "output_type": "execute_result"
    }
   ],
   "source": [
    "xx + y"
   ]
  },
  {
   "cell_type": "code",
   "execution_count": 51,
   "metadata": {
    "scrolled": true
   },
   "outputs": [
    {
     "data": {
      "text/plain": [
       "array([[1., 2., 3., 4.],\n",
       "       [1., 2., 3., 4.],\n",
       "       [1., 2., 3., 4.]])"
      ]
     },
     "execution_count": 51,
     "metadata": {},
     "output_type": "execute_result"
    }
   ],
   "source": [
    "x + z"
   ]
  },
  {
   "cell_type": "markdown",
   "metadata": {},
   "source": [
    "#### broadcasting boolean operations"
   ]
  },
  {
   "cell_type": "code",
   "execution_count": 191,
   "metadata": {},
   "outputs": [
    {
     "name": "stdout",
     "output_type": "stream",
     "text": [
      "[0.25746304 0.55031813 0.19371652 0.68277614 0.15901482 0.17822718\n",
      " 0.7023249  0.7317775  0.42409507 0.42965875]\n",
      "[ True  True False  True False False  True  True  True  True]\n",
      "[False False  True False  True  True False False False False]\n"
     ]
    }
   ],
   "source": [
    "x = np.random.rand(10)\n",
    "print(x)\n",
    "print(x > 0.2)\n",
    "print((-0.2 < x) * ( x < 0.2))"
   ]
  },
  {
   "cell_type": "markdown",
   "metadata": {},
   "source": [
    "#### more about ufuncs"
   ]
  },
  {
   "cell_type": "code",
   "execution_count": 130,
   "metadata": {
    "scrolled": true
   },
   "outputs": [
    {
     "name": "stdout",
     "output_type": "stream",
     "text": [
      "CPU times: user 1.91 ms, sys: 2.09 ms, total: 4 ms\n",
      "Wall time: 3.56 ms\n",
      "CPU times: user 1.59 ms, sys: 5.06 ms, total: 6.64 ms\n",
      "Wall time: 10.6 ms\n",
      "CPU times: user 872 µs, sys: 50 µs, total: 922 µs\n",
      "Wall time: 697 µs\n"
     ]
    }
   ],
   "source": [
    "#avoiding creating new objects\n",
    "\n",
    "x = np.arange(1000000)\n",
    "%time y = x * 2\n",
    "%time x = x * 2\n",
    "%time x *= 2"
   ]
  },
  {
   "cell_type": "code",
   "execution_count": 109,
   "metadata": {},
   "outputs": [
    {
     "name": "stdout",
     "output_type": "stream",
     "text": [
      "[[0.88817716 0.08152786 0.09042325]\n",
      " [0.94343038 0.31759839 0.03950975]\n",
      " [0.67557491 0.64261802 0.77467888]]\n",
      "[[0.8882 0.0815 0.0904]\n",
      " [0.9434 0.3176 0.0395]\n",
      " [0.6756 0.6426 0.7747]]\n",
      "CPU times: user 376 µs, sys: 247 µs, total: 623 µs\n",
      "Wall time: 476 µs\n",
      "CPU times: user 169 µs, sys: 52 µs, total: 221 µs\n",
      "Wall time: 242 µs\n"
     ]
    },
    {
     "data": {
      "text/plain": [
       "array([[0.3637, 0.8378, 0.0033, ..., 0.3492, 0.744 , 0.0378],\n",
       "       [0.9038, 0.7806, 0.6632, ..., 0.7974, 0.0377, 0.4185],\n",
       "       [0.2772, 0.4325, 0.6822, ..., 0.0289, 0.6   , 0.8642],\n",
       "       ...,\n",
       "       [0.0075, 0.8479, 0.5727, ..., 0.3201, 0.2899, 0.2191],\n",
       "       [0.0779, 0.5533, 0.1377, ..., 0.8197, 0.8836, 0.7897],\n",
       "       [0.2058, 0.5866, 0.7007, ..., 0.1081, 0.4683, 0.9953]])"
      ]
     },
     "execution_count": 109,
     "metadata": {},
     "output_type": "execute_result"
    }
   ],
   "source": [
    "#specifying out argument\n",
    "y = np.random.rand(3,3)\n",
    "print(y)\n",
    "print(np.round(y, decimals = 4))\n",
    "\n",
    "y = np.random.rand(100,100)\n",
    "\n",
    "%time np.round(y, decimals = 4)\n",
    "%time np.round(y, decimals = 4, out = y)"
   ]
  },
  {
   "cell_type": "code",
   "execution_count": 66,
   "metadata": {},
   "outputs": [
    {
     "name": "stdout",
     "output_type": "stream",
     "text": [
      "[0 1 2 3 4]\n",
      "[5 1 2 8 1]\n"
     ]
    }
   ],
   "source": [
    "#specifying where argument\n",
    "x = np.arange(5)\n",
    "y = [True, True, False, True, False]\n",
    "\n",
    "#z = np.add(x, 5, where = y)\n",
    "z = np.add(x, 5, where = (x%3==0))\n",
    "print(x)\n",
    "print(z)"
   ]
  },
  {
   "cell_type": "code",
   "execution_count": 125,
   "metadata": {},
   "outputs": [
    {
     "name": "stdout",
     "output_type": "stream",
     "text": [
      "[ 1  2  6 24] 24\n"
     ]
    }
   ],
   "source": [
    "#aggregate\n",
    "x = np.arange(1, 5)\n",
    "xacc = np.multiply.accumulate(x)\n",
    "xred = np.multiply.reduce(x)\n",
    "\n",
    "print(xacc, xred)\n"
   ]
  },
  {
   "cell_type": "code",
   "execution_count": 123,
   "metadata": {},
   "outputs": [
    {
     "name": "stdout",
     "output_type": "stream",
     "text": [
      "[[ 1  2  3  4  5  6  7  8  9]\n",
      " [ 2  4  6  8 10 12 14 16 18]\n",
      " [ 3  6  9 12 15 18 21 24 27]\n",
      " [ 4  8 12 16 20 24 28 32 36]\n",
      " [ 5 10 15 20 25 30 35 40 45]\n",
      " [ 6 12 18 24 30 36 42 48 54]\n",
      " [ 7 14 21 28 35 42 49 56 63]\n",
      " [ 8 16 24 32 40 48 56 64 72]\n",
      " [ 9 18 27 36 45 54 63 72 81]]\n",
      "[[ 2  3  4  5  6  7  8  9 10]\n",
      " [ 3  4  5  6  7  8  9 10 11]\n",
      " [ 4  5  6  7  8  9 10 11 12]\n",
      " [ 5  6  7  8  9 10 11 12 13]\n",
      " [ 6  7  8  9 10 11 12 13 14]\n",
      " [ 7  8  9 10 11 12 13 14 15]\n",
      " [ 8  9 10 11 12 13 14 15 16]\n",
      " [ 9 10 11 12 13 14 15 16 17]\n",
      " [10 11 12 13 14 15 16 17 18]]\n"
     ]
    }
   ],
   "source": [
    "#outer\n",
    "x = np.arange(1, 10)\n",
    "print(np.multiply.outer(x, x))\n",
    "print(np.add.outer(x, x))"
   ]
  },
  {
   "cell_type": "code",
   "execution_count": 122,
   "metadata": {},
   "outputs": [
    {
     "name": "stdout",
     "output_type": "stream",
     "text": [
      "(3, 3, 2, 2)\n",
      "[[[[ 1  2]\n",
      "   [ 3  4]]\n",
      "\n",
      "  [[ 2  4]\n",
      "   [ 6  8]]\n",
      "\n",
      "  [[ 3  6]\n",
      "   [ 9 12]]]\n",
      "\n",
      "\n",
      " [[[ 4  8]\n",
      "   [12 16]]\n",
      "\n",
      "  [[ 5 10]\n",
      "   [15 20]]\n",
      "\n",
      "  [[ 6 12]\n",
      "   [18 24]]]\n",
      "\n",
      "\n",
      " [[[ 7 14]\n",
      "   [21 28]]\n",
      "\n",
      "  [[ 8 16]\n",
      "   [24 32]]\n",
      "\n",
      "  [[ 9 18]\n",
      "   [27 36]]]]\n"
     ]
    }
   ],
   "source": [
    "#outer of higher dimensions\n",
    "x = np.arange(1,10).reshape(3,3)\n",
    "y = np.arange(1,5).reshape(2,2)\n",
    "outer = np.multiply.outer(x, y)\n",
    "print(outer.shape)\n",
    "print(outer)"
   ]
  },
  {
   "cell_type": "code",
   "execution_count": 129,
   "metadata": {},
   "outputs": [
    {
     "name": "stdout",
     "output_type": "stream",
     "text": [
      "[[1.10071271 1.01424753 1.22764924 0.64631622 1.0564105 ]\n",
      " [0.65301867 0.46472271 1.08122732 0.45419992 0.52316565]\n",
      " [1.09006667 0.10180298 0.13660606 0.33466299 1.18491115]\n",
      " [0.7028004  0.26720197 0.54896475 0.12203895 0.84618435]\n",
      " [0.63121322 0.10353206 1.20807627 0.14469522 0.22885884]]\n",
      "[[1.10071271 1.01424753 1.22764924 0.64631622 1.0564105 ]\n",
      " [0.65301867 0.46472271 1.08122732 0.45419992 0.52316565]\n",
      " [1.09006667 0.10180298 0.13660606 0.33466299 1.18491115]\n",
      " [0.7028004  0.26720197 0.54896475 0.12203895 0.84618435]\n",
      " [0.63121322 0.10353206 1.20807627 0.14469522 0.22885884]]\n",
      "22.2 µs ± 551 ns per loop (mean ± std. dev. of 7 runs, 10000 loops each)\n",
      "2.04 µs ± 6.85 ns per loop (mean ± std. dev. of 7 runs, 100000 loops each)\n"
     ]
    }
   ],
   "source": [
    "#create a universal function\n",
    "\n",
    "def myfunc(x, y):\n",
    "    return x**2 + y**2\n",
    "\n",
    "myfunc_vectorized = np.vectorize(myfunc)\n",
    "\n",
    "x = np.random.rand(5, 5)\n",
    "y = np.random.rand(5, 5)\n",
    "\n",
    "print(myfunc_vectorized(x, y))\n",
    "print(x**2 + y**2)\n",
    "\n",
    "%timeit myfunc_vectorized(x, y)\n",
    "%timeit x**2 + y**2"
   ]
  },
  {
   "cell_type": "markdown",
   "metadata": {},
   "source": [
    "### Aggregate functions"
   ]
  },
  {
   "cell_type": "code",
   "execution_count": 192,
   "metadata": {},
   "outputs": [
    {
     "data": {
      "text/plain": [
       "0.0906018720168077"
      ]
     },
     "execution_count": 192,
     "metadata": {},
     "output_type": "execute_result"
    }
   ],
   "source": [
    "data = np.random.normal(size=(15,15))\n",
    "np.mean(data) # data.mean()"
   ]
  },
  {
   "cell_type": "code",
   "execution_count": 196,
   "metadata": {},
   "outputs": [
    {
     "data": {
      "text/plain": [
       "15.14144250145668"
      ]
     },
     "execution_count": 196,
     "metadata": {},
     "output_type": "execute_result"
    }
   ],
   "source": [
    "np.sum(data)"
   ]
  },
  {
   "cell_type": "code",
   "execution_count": 202,
   "metadata": {},
   "outputs": [
    {
     "name": "stdout",
     "output_type": "stream",
     "text": [
      "[0.83438959 0.97506316 0.59246619 0.06338785 0.75147802]\n",
      "3.2167848176591862\n",
      "[0.83438959 1.80945276 2.40191895 2.4653068  3.21678482]\n"
     ]
    }
   ],
   "source": [
    "data = np.random.rand(5)\n",
    "print(data)\n",
    "print(np.sum(data))\n",
    "print(np.cumsum(data)) #add.accumulate"
   ]
  },
  {
   "cell_type": "code",
   "execution_count": 194,
   "metadata": {},
   "outputs": [
    {
     "name": "stdout",
     "output_type": "stream",
     "text": [
      "(10, 15)\n",
      "(10,)\n"
     ]
    }
   ],
   "source": [
    "data = np.random.normal(size=(5, 10, 15))\n",
    "\n",
    "print(data.sum(axis=0).shape)\n",
    "print(data.sum(axis=(0, 2)).shape)\n"
   ]
  },
  {
   "cell_type": "markdown",
   "metadata": {},
   "source": [
    "### Conditional expressions"
   ]
  },
  {
   "cell_type": "code",
   "execution_count": 195,
   "metadata": {},
   "outputs": [
    {
     "data": {
      "text/plain": [
       "array([ True,  True, False, False])"
      ]
     },
     "execution_count": 195,
     "metadata": {},
     "output_type": "execute_result"
    }
   ],
   "source": [
    "a = np.array([1, 2, 3, 4])\n",
    "b = np.array([4, 3, 2, 1])\n",
    "a < b"
   ]
  },
  {
   "cell_type": "code",
   "execution_count": 203,
   "metadata": {},
   "outputs": [
    {
     "data": {
      "text/plain": [
       "False"
      ]
     },
     "execution_count": 203,
     "metadata": {},
     "output_type": "execute_result"
    }
   ],
   "source": [
    "np.all(a < b)\n"
   ]
  },
  {
   "cell_type": "code",
   "execution_count": 204,
   "metadata": {},
   "outputs": [
    {
     "data": {
      "text/plain": [
       "True"
      ]
     },
     "execution_count": 204,
     "metadata": {},
     "output_type": "execute_result"
    }
   ],
   "source": [
    "np.any(a < b)\n"
   ]
  },
  {
   "cell_type": "code",
   "execution_count": 209,
   "metadata": {},
   "outputs": [
    {
     "name": "stdout",
     "output_type": "stream",
     "text": [
      "[-4. -3. -2. -1.  0.  1.  2.  3.  4.]\n"
     ]
    }
   ],
   "source": [
    "x = np.linspace(-4, 4, 9)\n",
    "print(x)"
   ]
  },
  {
   "cell_type": "code",
   "execution_count": 207,
   "metadata": {},
   "outputs": [
    {
     "data": {
      "text/plain": [
       "array([16.,  9.,  4.,  1.,  0.,  1.,  8., 27., 64.])"
      ]
     },
     "execution_count": 207,
     "metadata": {},
     "output_type": "execute_result"
    }
   ],
   "source": [
    "np.where(x < 0, x**2, x**3)"
   ]
  },
  {
   "cell_type": "markdown",
   "metadata": {},
   "source": [
    "### more about efficiency"
   ]
  },
  {
   "cell_type": "code",
   "execution_count": 92,
   "metadata": {},
   "outputs": [
    {
     "name": "stdout",
     "output_type": "stream",
     "text": [
      "Element Type:  int64\n",
      "Shape:    (5, 5)\n",
      "Strides:  (40, 8)\n",
      "[[ 0  1  2  3  4]\n",
      " [ 5  6  7  8  9]\n",
      " [10 11 12 13 14]\n",
      " [15 16 17 18 19]\n",
      " [20 21 22 23 24]]\n",
      "\n",
      "10\n",
      "50\n"
     ]
    }
   ],
   "source": [
    "#row v.s. column operations\n",
    "a = np.arange(25).reshape(5, 5)\n",
    "print_array(a)\n",
    "print(a[0,:].sum())\n",
    "print(a[:,0].sum())"
   ]
  },
  {
   "cell_type": "code",
   "execution_count": 94,
   "metadata": {},
   "outputs": [
    {
     "name": "stdout",
     "output_type": "stream",
     "text": [
      "3.72 µs ± 39 ns per loop (mean ± std. dev. of 7 runs, 100000 loops each)\n",
      "35.9 µs ± 610 ns per loop (mean ± std. dev. of 7 runs, 10000 loops each)\n",
      "36 µs ± 348 ns per loop (mean ± std. dev. of 7 runs, 10000 loops each)\n",
      "3.71 µs ± 17.3 ns per loop (mean ± std. dev. of 7 runs, 100000 loops each)\n",
      "36.1 µs ± 584 ns per loop (mean ± std. dev. of 7 runs, 10000 loops each)\n",
      "3.73 µs ± 32.5 ns per loop (mean ± std. dev. of 7 runs, 100000 loops each)\n",
      "3.74 µs ± 19 ns per loop (mean ± std. dev. of 7 runs, 100000 loops each)\n",
      "36.7 µs ± 1.44 µs per loop (mean ± std. dev. of 7 runs, 10000 loops each)\n"
     ]
    }
   ],
   "source": [
    "a = np.random.rand(5000, 5000)\n",
    "%timeit a[0, :].sum() \n",
    "%timeit a[:, 0].sum() \n",
    "b = a.T\n",
    "%timeit b[0, :].sum() \n",
    "%timeit b[:, 0].sum()\n",
    "c = np.array(a, copy = True, order = 'F')\n",
    "%timeit c[0, :].sum() \n",
    "%timeit c[:, 0].sum() \n",
    "d = np.array(a, copy = True, order = 'C')\n",
    "%timeit d[0, :].sum() \n",
    "%timeit d[:, 0].sum() "
   ]
  },
  {
   "cell_type": "code",
   "execution_count": 99,
   "metadata": {},
   "outputs": [
    {
     "name": "stdout",
     "output_type": "stream",
     "text": [
      "Element Type:  int64\n",
      "Shape:    (2, 3)\n",
      "Strides:  (24, 8)\n",
      "[[0 1 2]\n",
      " [3 4 5]]\n",
      "\n",
      "[0 1 2 3 4 5]\n",
      "Iters: \n",
      "0 1 2 3 4 5 \n",
      "\n",
      "Element Type:  int64\n",
      "Shape:    (3, 2)\n",
      "Strides:  (8, 24)\n",
      "[[0 3]\n",
      " [1 4]\n",
      " [2 5]]\n",
      "\n",
      "[0 3 1 4 2 5]\n",
      "Iters: \n",
      "0 1 2 3 4 5 \n",
      "\n",
      "Element Type:  int64\n",
      "Shape:    (3, 2)\n",
      "Strides:  (16, 8)\n",
      "[[0 3]\n",
      " [1 4]\n",
      " [2 5]]\n",
      "\n",
      "[0 3 1 4 2 5]\n",
      "Iters: \n",
      "0 3 1 4 2 5 \n",
      "\n"
     ]
    }
   ],
   "source": [
    "#iterating through a ndarray\n",
    "a = np.arange(6).reshape(2,3) \n",
    "\n",
    "def print_nditer(b):\n",
    "    print_array(b)\n",
    "    print(b.ravel())\n",
    "    print(\"Iters: \")\n",
    "    for x in np.nditer(b): \n",
    "        print(x, end = ' ')\n",
    "    print(\"\\n\")\n",
    "\n",
    "print_nditer(a)\n",
    "print_nditer(a.T)\n",
    "print_nditer(a.T.copy(order = 'C'))     "
   ]
  },
  {
   "cell_type": "markdown",
   "metadata": {},
   "source": [
    "### Applications"
   ]
  },
  {
   "cell_type": "markdown",
   "metadata": {},
   "source": [
    "#### application example 1: compute mean square error"
   ]
  },
  {
   "cell_type": "code",
   "execution_count": 153,
   "metadata": {},
   "outputs": [
    {
     "name": "stdout",
     "output_type": "stream",
     "text": [
      "[[0.51093587 0.88025084 0.32389936]\n",
      " [0.82536325 0.20184984 0.48679068]]\n",
      "[[0.88678798 0.69895    0.82105625]\n",
      " [0.3318244  0.74129436 0.54745625]]\n"
     ]
    },
    {
     "data": {
      "text/plain": [
       "array([0.14043325, 0.17942043])"
      ]
     },
     "execution_count": 153,
     "metadata": {},
     "output_type": "execute_result"
    }
   ],
   "source": [
    "def mean_square_error(y_hat, y):\n",
    "    print(y_hat)\n",
    "    print(y)\n",
    "    return np.average(np.square(y_hat - y), axis = 0)\n",
    "\n",
    "y = np.random.rand(6).reshape(2,3)\n",
    "y_hat = np.random.rand(6).reshape(2,3)\n",
    "\n",
    "mean_square_error(y_hat, y)"
   ]
  },
  {
   "cell_type": "markdown",
   "metadata": {},
   "source": [
    "#### application example 2: finding the local maximum"
   ]
  },
  {
   "cell_type": "code",
   "execution_count": 186,
   "metadata": {},
   "outputs": [
    {
     "name": "stdout",
     "output_type": "stream",
     "text": [
      "[9 3 8 3 5 8 4 5 7 6]\n",
      "[False  True False False  True False False  True]\n",
      "[8 8 7]\n",
      "[ True False  True False False  True False False]\n",
      "[3 3 4]\n"
     ]
    }
   ],
   "source": [
    "np.random.seed(1001)\n",
    "a = np.random.randint(0, 10, [10])\n",
    "print(a)\n",
    "# maxima\n",
    "index = (a[0:-2] <= a[1:-1]) & (a[1:-1] > a[2:])\n",
    "print(index)\n",
    "print(a[1:-1][index])\n",
    "# minima\n",
    "index = (a[0:-2] >= a[1:-1]) & (a[1:-1] < a[2:])\n",
    "print(index)  \n",
    "print(a[1:-1][index])"
   ]
  },
  {
   "cell_type": "markdown",
   "metadata": {},
   "source": [
    "#### application example 3: average in sliding windows"
   ]
  },
  {
   "cell_type": "code",
   "execution_count": 185,
   "metadata": {},
   "outputs": [
    {
     "name": "stdout",
     "output_type": "stream",
     "text": [
      "[0 1 2 3 4 5 6 7 8 9]\n",
      "[0 1 2 3 4 5 6 7] [1 2 3 4 5 6 7 8] [2 3 4 5 6 7 8 9]\n",
      "[1. 2. 3. 4. 5. 6. 7. 8.]\n",
      "[ 0  1  3  6 10 15 21 28 36 45]\n",
      "[ 6 10 15 21 28 36 45]\n",
      "[ 0  1  3  6 10 15 21]\n",
      "[1. 2. 3. 4. 5. 6. 7. 8.]\n"
     ]
    }
   ],
   "source": [
    "#for window size 3\n",
    "x = np.arange(10)\n",
    "print(x)\n",
    "print(x[:-2],x[1:-1],x[2:])\n",
    "ave = (x[:-2] + x[1:-1] + x[2:] )/3\n",
    "print(ave)\n",
    "\n",
    "#for window size k\n",
    "k = 3\n",
    "accu = np.add.accumulate(x)\n",
    "accu[k:] = accu[k : ] - accu[: - k ]\n",
    "print(accu[k-1:]/k)\n"
   ]
  },
  {
   "cell_type": "markdown",
   "metadata": {},
   "source": [
    "#### application example 4: compute the square root of an array"
   ]
  },
  {
   "cell_type": "code",
   "execution_count": 146,
   "metadata": {
    "scrolled": true
   },
   "outputs": [
    {
     "name": "stdout",
     "output_type": "stream",
     "text": [
      "[[  32   27   48   62   29]\n",
      " [ -89  -88    6  -94 -100]\n",
      " [ -66   50   40  -57  -17]\n",
      " [ -54  -97  -92   -1  -84]\n",
      " [ -32    4   25   -5   26]]\n",
      "7.76 µs ± 50 ns per loop (mean ± std. dev. of 7 runs, 100000 loops each)\n",
      "44.3 µs ± 194 ns per loop (mean ± std. dev. of 7 runs, 10000 loops each)\n"
     ]
    }
   ],
   "source": [
    "x = np.random.randint(-100, 101, (5,5))\n",
    "print(x)\n",
    "\n",
    "#np.sqrt(x) \n",
    "\n",
    "def method1(x):\n",
    "    x = np.array(x, dtype = \"float32\")\n",
    "    np.sqrt(x, where = x > 0, out = x)\n",
    "    np.sqrt(-x, where = x < 0, out = x)\n",
    "    return x\n",
    "\n",
    "def method2(x):\n",
    "    mysqrt = np.vectorize(lambda x: np.sqrt(x) if x > 0 else np.sqrt(-x))\n",
    "    return mysqrt(x)\n",
    "\n",
    "%timeit method1(x)\n",
    "%timeit method2(x)\n",
    "\n"
   ]
  }
 ],
 "metadata": {
  "kernelspec": {
   "display_name": "Python 3",
   "language": "python",
   "name": "python3"
  },
  "language_info": {
   "codemirror_mode": {
    "name": "ipython",
    "version": 3
   },
   "file_extension": ".py",
   "mimetype": "text/x-python",
   "name": "python",
   "nbconvert_exporter": "python",
   "pygments_lexer": "ipython3",
   "version": "3.9.2"
  }
 },
 "nbformat": 4,
 "nbformat_minor": 2
}
