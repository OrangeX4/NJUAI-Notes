{
 "metadata": {
  "language_info": {
   "codemirror_mode": {
    "name": "ipython",
    "version": 3
   },
   "file_extension": ".py",
   "mimetype": "text/x-python",
   "name": "python",
   "nbconvert_exporter": "python",
   "pygments_lexer": "ipython3",
   "version": "3.9.1"
  },
  "orig_nbformat": 2,
  "kernelspec": {
   "name": "python391jvsc74a57bd05f8031e44b4b6da3f1d5abec8823c377cc810ce86147a34d188c027073b25b00",
   "display_name": "Python 3.9.1 64-bit ('base': conda)"
  },
  "metadata": {
   "interpreter": {
    "hash": "5f8031e44b4b6da3f1d5abec8823c377cc810ce86147a34d188c027073b25b00"
   }
  }
 },
 "nbformat": 4,
 "nbformat_minor": 2,
 "cells": [
  {
   "source": [
    "![](image/2021-04-18-14-39-14.png)"
   ],
   "cell_type": "markdown",
   "metadata": {}
  },
  {
   "cell_type": "code",
   "execution_count": 3,
   "metadata": {},
   "outputs": [],
   "source": [
    "import numpy as np\n",
    "import os\n",
    "\n",
    "from typing import Tuple\n",
    "\n",
    "def read_libsvm(name: str) -> Tuple[np.ndarray, np.ndarray]:\n",
    "    current_path = os.path.abspath('')\n",
    "    data_path = os.path.join(current_path, name)\n",
    "\n",
    "    # 读取文件\n",
    "    with open(data_path, \"r\", encoding=\"utf-8\") as data_file:\n",
    "        data = [line.strip().split() for line in data_file.readlines()]\n",
    "        x = []\n",
    "        y = []\n",
    "        for line in data:\n",
    "            x.append(float(line[0]))\n",
    "            y.append([float(variable.split(':')[1]) for variable in line[1:]])\n",
    "    return np.array(x), np.array(y)\n",
    "\n",
    "x, y = read_libsvm('train.txt') "
   ]
  },
  {
   "cell_type": "code",
   "execution_count": 7,
   "metadata": {},
   "outputs": [
    {
     "output_type": "stream",
     "name": "stdout",
     "text": [
      "(306,) (306, 13)\n"
     ]
    }
   ],
   "source": [
    "print(x.shape, y.shape)"
   ]
  }
 ]
}