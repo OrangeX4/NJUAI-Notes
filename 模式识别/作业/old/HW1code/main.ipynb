{
 "cells": [
  {
   "cell_type": "code",
   "execution_count": 1,
   "metadata": {},
   "outputs": [],
   "source": [
    "import numpy as np\n",
    "import random\n",
    "from collections import Counter"
   ]
  },
  {
   "cell_type": "code",
   "execution_count": 2,
   "metadata": {},
   "outputs": [],
   "source": [
    "########读取机器学习数据集的示例代码 (LIBSVM格式)\n",
    "def load_svmfile(filename):\n",
    "    X = []\n",
    "    Y = []\n",
    "    with open(filename, 'r') as f:\n",
    "        filelines = f.readlines()\n",
    "        for fileline in filelines:\n",
    "            fileline = fileline.strip().split(' ')\n",
    "            #print(fileline)\n",
    "            Y.append(int(fileline[0]))\n",
    "            tmp = []\n",
    "            for t in fileline[1:]:\n",
    "                if len(t)==0:\n",
    "                    continue\n",
    "                tmp.append(float(t.split(':')[1]))\n",
    "            X.append(tmp)\n",
    "    \n",
    "    return np.array(X), np.array(Y)"
   ]
  },
  {
   "cell_type": "code",
   "execution_count": 3,
   "metadata": {},
   "outputs": [
    {
     "name": "stdout",
     "output_type": "stream",
     "text": [
      "Start loading dataset svmguide1\n",
      "trainset X shape (3089, 4), train label Y shape (3089,)\n",
      "testset X_test shape (4000, 4), test label Y shape (4000,)\n"
     ]
    }
   ],
   "source": [
    "########从这个网址下载数据集：https://www.csie.ntu.edu.tw/~cjlin/libsvmtools/datasets/binary.html#svmguide1\n",
    "########将数据集保存在当前目录下\n",
    "########读取数据集\n",
    "dataset = 'svmguide1'\n",
    "print('Start loading dataset {}'.format(dataset))\n",
    "X, Y = load_svmfile(dataset) # train set\n",
    "X_test, Y_test = load_svmfile('{}.t'.format(dataset)) # test set\n",
    "print('trainset X shape {}, train label Y shape {}'.format(X.shape, Y.shape))\n",
    "print('testset X_test shape {}, test label Y shape {}'.format(X_test.shape, Y_test.shape))"
   ]
  },
  {
   "cell_type": "code",
   "execution_count": 4,
   "metadata": {},
   "outputs": [],
   "source": [
    "########实现一个KNN分类器的模型，需要完成的功能包括train, test和_calculate_distances三部分\n",
    "class KNN_model():\n",
    "    def __init__(self, k=1):\n",
    "        self.k = k\n",
    "    \n",
    "    def train(self, x_train, y_train):\n",
    "        \"\"\"Implement the training code for KNN\n",
    "        Input: \n",
    "            x_train: Training instances of size (N, D), where N denotes the number of instances and D denotes the feature dimension\n",
    "            y_train: Training labels of size (N, )\n",
    "        \"\"\"\n",
    "        self.x_train = x_train\n",
    "        self.y_train = y_train\n",
    "    \n",
    "    def test(self, x_test):\n",
    "        \"\"\"\n",
    "        Input: Test instances of size (N, D), where N denotes the number of instances and D denotes the feature dimension\n",
    "        Return: Predicted labels of size (N, )\n",
    "        \"\"\"\n",
    "        # 计算出所有的样本的距离\n",
    "        distances = np.array([self._calculate_distances(x_test_sample) for x_test_sample in x_test])\n",
    "        # 每个样本 k 个最近邻对应的下标\n",
    "        indices = np.argsort(distances)[:, :self.k]\n",
    "        # 每个样本 k 个最近邻对应的类别\n",
    "        labels = self.y_train[indices]\n",
    "        # 通过投票得到次数最多的类别\n",
    "        y_pred = np.array([Counter(labels_for_one).most_common()[0][0] for labels_for_one in labels])\n",
    "        return y_pred\n",
    "\n",
    "    def _calculate_distances(self, point):\n",
    "        \"\"\"Calculate the euclidean distance between a test instance and all points in the training set x_train\n",
    "        Input: a single point of size (D, )\n",
    "        Return: distance matrix of size (N, )\n",
    "        \"\"\"\n",
    "        return ((self.x_train - point) ** 2).sum(axis=1) ** 0.5\n",
    "\n",
    "# m = KNN_model(k=1)\n",
    "# m.train(np.array([[0, 0, 0], [1, 1, 1], [2, 2, 2]]), np.array([0, 1, 0]))\n",
    "# print(m._calculate_distances(np.array([0, 0, 0])))\n",
    "# print(m.test(np.array([[0, 0, 0], [0, 1, 1]])))"
   ]
  },
  {
   "cell_type": "code",
   "execution_count": 5,
   "metadata": {},
   "outputs": [
    {
     "name": "stdout",
     "output_type": "stream",
     "text": [
      "trainset X_train shape (2472, 4), validset X_valid shape (617, 4)\n"
     ]
    }
   ],
   "source": [
    "######### 将原来的训练集划分成两部分：训练和验证\n",
    "random.seed(777777) #定下随机种子\n",
    "N = X.shape[0] \n",
    "valid_frac = 0.2 # 设置验证集的比例为20%\n",
    "valid_size = int(N*valid_frac)\n",
    "\n",
    "# 出于简单起见，这里直接使用random shuffle来划分\n",
    "shuffle_index = [i for i in range(N)]\n",
    "random.shuffle(shuffle_index)\n",
    "valid_index, train_index = shuffle_index[:valid_size], shuffle_index[valid_size:]\n",
    "X_valid, Y_valid = X[valid_index], Y[valid_index]\n",
    "X_train, Y_train = X[train_index], Y[train_index]\n",
    "print('trainset X_train shape {}, validset X_valid shape {}'.format(X_train.shape, X_valid.shape))"
   ]
  },
  {
   "cell_type": "code",
   "execution_count": 6,
   "metadata": {},
   "outputs": [],
   "source": [
    "######### 这里需要实现计算准确率的函数，注意我们期望的输出是百分制，如准确率是0.95，我们期望的输出是95\n",
    "def cal_accuracy(y_pred, y_gt):\n",
    "    '''\n",
    "    y_pred: predicted labels (N,)\n",
    "    y_gt: ground truth labels (N,)\n",
    "    Return: Accuracy (%)\n",
    "    '''\n",
    "    return np.sum(y_pred == y_gt) / y_gt.shape[0] * 100\n",
    "assert abs(cal_accuracy(np.zeros(Y.shape[0]), Y)-100*1089.0/3089.0)<1e-3"
   ]
  },
  {
   "cell_type": "code",
   "execution_count": 7,
   "metadata": {},
   "outputs": [
    {
     "name": "stdout",
     "output_type": "stream",
     "text": [
      "k=1, accuracy on validation=96.27228525121556%\n",
      "k=3, accuracy on validation=96.27228525121556%\n",
      "k=5, accuracy on validation=96.27228525121556%\n",
      "k=7, accuracy on validation=96.43435980551054%\n",
      "k=9, accuracy on validation=96.11021069692059%\n",
      "k=11, accuracy on validation=95.62398703403565%\n"
     ]
    },
    {
     "data": {
      "text/plain": [
       "[<matplotlib.lines.Line2D at 0x1d69bb8a190>]"
      ]
     },
     "execution_count": 7,
     "metadata": {},
     "output_type": "execute_result"
    },
    {
     "data": {
      "image/png": "[encoded data removed]",
      "text/plain": [
       "<Figure size 640x480 with 1 Axes>"
      ]
     },
     "metadata": {},
     "output_type": "display_data"
    }
   ],
   "source": [
    "#####使用验证集来选择超参数\n",
    "possible_k_list = [1,3,5,7,9,11] # 在本次实验中候选的超参数取值\n",
    "accs = [] # 将每个取值k对应的验证集准确率加入列表\n",
    "for k in possible_k_list:\n",
    "    #####模型的超参数设置为k\n",
    "    model = KNN_model(k)\n",
    "    #####在训练集上训练, 提示: model.train()\n",
    "    model.train(X_train, Y_train)\n",
    "    #####在验证集X_valid上给出预测结果 Y_pred_valid, 提示：model.test()\n",
    "    Y_pred_valid = model.test(X_valid)\n",
    "    #####计算验证集上的准确率\n",
    "    acc_k = cal_accuracy(Y_pred_valid, Y_valid)\n",
    "    #####将每个取值k对应的验证集准确率加入列表\n",
    "    accs.append(acc_k)\n",
    "    print('k={}, accuracy on validation={}%'.format(k, acc_k))\n",
    "\n",
    "import matplotlib.pyplot as plt\n",
    "plt.plot(possible_k_list, accs) #画出每个k对应的验证集准确率"
   ]
  },
  {
   "cell_type": "code",
   "execution_count": 8,
   "metadata": {},
   "outputs": [
    {
     "name": "stdout",
     "output_type": "stream",
     "text": [
      "Test Accuracy=96.575%\n"
     ]
    }
   ],
   "source": [
    "#####基于上面的结果确定验证集上的最好的超参数k，根据这个k最终在测试集上进行测试\n",
    "best_k = 7\n",
    "\n",
    "#####定义最好的k对应的模型\n",
    "best_model = KNN_model(best_k)\n",
    "\n",
    "#####在训练集上训练，注意这里可以使用全部的训练数据\n",
    "best_model.train(X, Y)\n",
    "\n",
    "#####在测试集上测试生成预测 Y_pred_test\n",
    "Y_pred_test = best_model.test(X_test)\n",
    "print('Test Accuracy={}%'.format(cal_accuracy(Y_pred_test, Y_test)))"
   ]
  },
  {
   "cell_type": "code",
   "execution_count": 9,
   "metadata": {},
   "outputs": [
    {
     "name": "stdout",
     "output_type": "stream",
     "text": [
      "******k=1******\n",
      "Valid Accuracy on Fold-1: 96.11021069692059%\n",
      "Valid Accuracy on Fold-2: 95.78606158833063%\n",
      "Valid Accuracy on Fold-3: 96.75850891410049%\n",
      "Valid Accuracy on Fold-4: 88.49270664505673%\n",
      "Valid Accuracy on Fold-5: 92.70664505672609%\n",
      "k=1, Accuracy 93.9708265802269+-3.0741232335892827%\n",
      "******k=3******\n",
      "Valid Accuracy on Fold-1: 96.27228525121556%\n",
      "Valid Accuracy on Fold-2: 95.78606158833063%\n",
      "Valid Accuracy on Fold-3: 97.24473257698541%\n",
      "Valid Accuracy on Fold-4: 90.76175040518638%\n",
      "Valid Accuracy on Fold-5: 93.67909238249594%\n",
      "k=3, Accuracy 94.74878444084278+-2.3094344415632944%\n",
      "******k=5******\n",
      "Valid Accuracy on Fold-1: 96.75850891410049%\n",
      "Valid Accuracy on Fold-2: 96.27228525121556%\n",
      "Valid Accuracy on Fold-3: 97.08265802269044%\n",
      "Valid Accuracy on Fold-4: 91.24797406807131%\n",
      "Valid Accuracy on Fold-5: 93.03079416531604%\n",
      "k=5, Accuracy 94.87844408427875+-2.320780851820909%\n",
      "******k=7******\n",
      "Valid Accuracy on Fold-1: 96.5964343598055%\n",
      "Valid Accuracy on Fold-2: 96.5964343598055%\n",
      "Valid Accuracy on Fold-3: 97.24473257698541%\n",
      "Valid Accuracy on Fold-4: 92.05834683954619%\n",
      "Valid Accuracy on Fold-5: 93.354943273906%\n",
      "k=7, Accuracy 95.17017828200972+-2.06643467753766%\n",
      "******k=9******\n",
      "Valid Accuracy on Fold-1: 96.5964343598055%\n",
      "Valid Accuracy on Fold-2: 96.27228525121556%\n",
      "Valid Accuracy on Fold-3: 97.08265802269044%\n",
      "Valid Accuracy on Fold-4: 92.05834683954619%\n",
      "Valid Accuracy on Fold-5: 93.03079416531604%\n",
      "k=9, Accuracy 95.00810372771474+-2.051123762665333%\n",
      "******k=11******\n",
      "Valid Accuracy on Fold-1: 96.5964343598055%\n",
      "Valid Accuracy on Fold-2: 96.43435980551054%\n",
      "Valid Accuracy on Fold-3: 96.92058346839546%\n",
      "Valid Accuracy on Fold-4: 92.22042139384116%\n",
      "Valid Accuracy on Fold-5: 92.86871961102106%\n",
      "k=11, Accuracy 95.00810372771474+-2.0279406573247405%\n",
      "k_mean_std_list: [(1, 93.9708265802269, 3.0741232335892827), (3, 94.74878444084278, 2.3094344415632944), (5, 94.87844408427875, 2.320780851820909), (7, 95.17017828200972, 2.06643467753766), (9, 95.00810372771474, 2.051123762665333), (11, 95.00810372771474, 2.0279406573247405)]\n"
     ]
    }
   ],
   "source": [
    "#####以下需要实现5折交叉验证，可以参考之前训练集和验证集划分的方式\n",
    "folds = 5\n",
    "\n",
    "#####(k, 均值, 方差) 列表\n",
    "k_mean_std_list = []\n",
    "\n",
    "for k in possible_k_list: # 遍历所有可能的k\n",
    "    print('******k={}******'.format(k))\n",
    "    valid_accs = []\n",
    "\n",
    "    ######### 将原来的训练集划分成两部分：训练和验证\n",
    "    random.seed(777777) #定下随机种子\n",
    "    N = X.shape[0] \n",
    "    valid_frac = 1 / folds  # 设置验证集的比例为 1/folds\n",
    "    valid_size = int(N * valid_frac)\n",
    "\n",
    "    # 出于简单起见，这里直接使用random shuffle来划分\n",
    "    shuffle_index = [i for i in range(N)]\n",
    "    random.shuffle(shuffle_index)\n",
    "    shuffle_X, shuffle_Y = X[shuffle_index], Y[shuffle_index]\n",
    "    for i in range(folds): # 第i折的实验\n",
    "        ##### 生成第i折的训练集 X_train_i, Y_train_i和验证集 X_valid_i, Y_valid_i; 提示：可参考之前random shuffle的方式来生成index\n",
    "        X_valid_i, Y_valid_i = X[i * valid_size: (i+1) * valid_size], Y[i * valid_size: (i+1) * valid_size]\n",
    "        X_train_i = np.vstack((X[:i * valid_size], X[(i+1) * valid_size:]))\n",
    "        Y_train_i = np.append(Y[:i * valid_size], Y[(i+1) * valid_size:])\n",
    "        ##### 定义超参数设置为k的模型\n",
    "        model = KNN_model(k)\n",
    "        ##### 在Fold-i上进行训练\n",
    "        model.train(X_train_i, Y_train_i)\n",
    "        ##### 给出Fold-i验证集X_valid_i上的预测结果 Y_pred_valid_i\n",
    "        Y_pred_valid_i = model.test(X_valid_i)\n",
    "        acc = cal_accuracy(Y_pred_valid_i, Y_valid_i)\n",
    "        valid_accs.append(acc)\n",
    "        print('Valid Accuracy on Fold-{}: {}%'.format(i+1, acc))\n",
    "    \n",
    "    k_mean_std_list.append((k, np.mean(valid_accs), np.std(valid_accs)))\n",
    "    print('k={}, Accuracy {}+-{}%'.format(*k_mean_std_list[len(k_mean_std_list) - 1]))\n",
    "\n",
    "print('k_mean_std_list:', k_mean_std_list)"
   ]
  },
  {
   "cell_type": "code",
   "execution_count": 10,
   "metadata": {},
   "outputs": [
    {
     "name": "stdout",
     "output_type": "stream",
     "text": [
      "Test Accuracy chosing k using cross-validation=96.575%\n"
     ]
    }
   ],
   "source": [
    "#####基于交叉验证确定验证集上的最好的超参数k，根据这个k最终在测试集上进行测试\n",
    "best_k = 7\n",
    "#####定义最好的k对应的模型\n",
    "best_model = KNN_model(best_k)\n",
    "#####在训练集上训练，注意这里可以使用全部的训练数据\n",
    "best_model.train(X, Y)\n",
    "#####在测试集上测试生成预测 Y_pred_test\n",
    "Y_pred_test = best_model.test(X_test)\n",
    "print('Test Accuracy chosing k using cross-validation={}%'.format(cal_accuracy(Y_pred_test, Y_test)))"
   ]
  },
  {
   "cell_type": "code",
   "execution_count": 11,
   "metadata": {},
   "outputs": [
    {
     "name": "stdout",
     "output_type": "stream",
     "text": [
      "Counter({0: 2000, 1: 800})\n",
      "(0.910271546635183, 0.96375, 0.936247723132969)\n"
     ]
    }
   ],
   "source": [
    "#####如果训练/测试集不均衡如果评估模型呢？\n",
    "#####生成一个不均衡的测试集，由于示例数据集中所有的标签1都在后面所以出于方便直接这样来生成一个不均衡的测试集\n",
    "N_test = int(X_test.shape[0]*0.7)\n",
    "X_test, Y_test = X_test[:N_test], Y_test[:N_test]\n",
    "print(Counter(Y_test)) # 输出新的测试集中的标签分布\n",
    "\n",
    "model = KNN_model(k=7) # 此处请填入交叉验证确定的最好的k\n",
    "model.train(X, Y)\n",
    "Y_pred_test = model.test(X_test)\n",
    "\n",
    "#实现计算percision， recall和F1 score的函数\n",
    "def cal_prec_recall_f1(Y_pred, Y_gt):\n",
    "    '''\n",
    "    Input: predicted labels y_pred, ground truth labels Y_gt\n",
    "    Retur: precision, recall, and F1 score\n",
    "    '''\n",
    "    TP = np.bitwise_and(Y_pred == 1, Y_gt == 1).sum()\n",
    "    FP = np.bitwise_and(Y_pred == 1, Y_gt == 0).sum()\n",
    "    FN = np.bitwise_and(Y_pred == 0, Y_gt == 1).sum()\n",
    "    TN = np.bitwise_and(Y_pred == 0, Y_gt == 0).sum()\n",
    "    \n",
    "    precision = TP / (TP + FP) if (TP + FP) != 0 else 1\n",
    "    recall = TP / (TP + FN) if (TP + FN) != 0 else 1\n",
    "    f1 = 2 * precision * recall / (precision + recall)\n",
    "    return precision, recall, f1\n",
    "    \n",
    "print(cal_prec_recall_f1(Y_pred_test, Y_test))"
   ]
  },
  {
   "attachments": {},
   "cell_type": "markdown",
   "metadata": {},
   "source": [
    "## 遇到的问题\n",
    "\n",
    "### Precision 与 Recall 分母为零\n",
    "\n",
    "有的时候计算 Precision 与 Recall 时, 分母可能为零, 因此我们要对此类情况特殊处理, 我的处理方法是对这种情况将值设为 1.\n",
    "\n",
    "### 部分 Numpy 的方法使用不熟练\n",
    "\n",
    "部分 Numpy 的方法使用不熟练, 需要频繁查文档, 但是这个问题也只能通过多使用来解决.\n",
    "\n",
    "\n",
    "## 收获\n",
    "\n",
    "通过这一次简单的代码作业, 一定程度上锻炼了我的写代码能力, 也给了我将学到的知识应用到具体场景上的机会."
   ]
  }
 ],
 "metadata": {
  "kernelspec": {
   "display_name": "Python 3",
   "language": "python",
   "name": "python3"
  },
  "language_info": {
   "codemirror_mode": {
    "name": "ipython",
    "version": 3
   },
   "file_extension": ".py",
   "mimetype": "text/x-python",
   "name": "python",
   "nbconvert_exporter": "python",
   "pygments_lexer": "ipython3",
   "version": "3.9.15"
  }
 },
 "nbformat": 4,
 "nbformat_minor": 4
}
